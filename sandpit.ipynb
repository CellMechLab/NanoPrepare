{
 "cells": [
  {
   "cell_type": "code",
   "execution_count": 1,
   "metadata": {},
   "outputs": [
    {
     "name": "stdout",
     "output_type": "stream",
     "text": [
      "You have an old version of afmformats installed.\n"
     ]
    }
   ],
   "source": [
    "import numpy as np\n",
    "import matplotlib.pyplot as plt\n",
    "import mvexperiment.experiment as experiment\n",
    "import ipywidgets as widgets\n",
    "from ipyfilechooser import FileChooser\n",
    "%matplotlib qt"
   ]
  },
  {
   "cell_type": "code",
   "execution_count": 2,
   "metadata": {},
   "outputs": [
    {
     "data": {
      "application/vnd.jupyter.widget-view+json": {
       "model_id": "8e9e7e12c71f45a9a529eeb2a9eedd8e",
       "version_major": 2,
       "version_minor": 0
      },
      "text/plain": [
       "FileChooser(path='C:\\Users\\mv68b\\git\\NanoPrepare', filename='', title='', show_hidden=False, select_desc='Sele…"
      ]
     },
     "metadata": {},
     "output_type": "display_data"
    }
   ],
   "source": [
    "fc = FileChooser('./')\n",
    "display(fc)"
   ]
  },
  {
   "cell_type": "code",
   "execution_count": 3,
   "metadata": {},
   "outputs": [],
   "source": [
    "f = open(fc.value,'r')\n",
    "for line in f:\n",
    "    if line[:8]=='Time (s)':\n",
    "        break\n",
    "com = line.split('\\t')\n",
    "n=[0,com.index('Load (uN)'),com.index('Piezo (nm)'),com.index('Indentation (nm)')]\n",
    "time=[]\n",
    "load=[]\n",
    "z=[]\n",
    "ind=[]\n",
    "for line in f:\n",
    "    cols = line.split('\\t')\n",
    "    time.append(float(cols[n[0]]))\n",
    "    load.append(float(cols[n[1]]))\n",
    "    z.append(float(cols[n[2]]))\n",
    "    ind.append(float(cols[n[3]]))\n",
    "time=np.array(time)\n",
    "z=np.array(z)\n",
    "load=np.array(load)\n",
    "f.close()"
   ]
  },
  {
   "cell_type": "code",
   "execution_count": 4,
   "metadata": {},
   "outputs": [
    {
     "data": {
      "text/plain": [
       "[<matplotlib.lines.Line2D at 0x2a39c0a9ae0>]"
      ]
     },
     "execution_count": 4,
     "metadata": {},
     "output_type": "execute_result"
    }
   ],
   "source": [
    "fig,ax=plt.subplots(1,2,figsize=(14,6))\n",
    "\n",
    "ax[0].plot(time,z)\n",
    "ax[1].plot(time,load)"
   ]
  },
  {
   "cell_type": "code",
   "execution_count": 5,
   "metadata": {},
   "outputs": [
    {
     "ename": "IndexError",
     "evalue": "list index out of range",
     "output_type": "error",
     "traceback": [
      "\u001b[1;31m---------------------------------------------------------------------------\u001b[0m",
      "\u001b[1;31mIndexError\u001b[0m                                Traceback (most recent call last)",
      "Input \u001b[1;32mIn [5]\u001b[0m, in \u001b[0;36m<cell line: 35>\u001b[1;34m()\u001b[0m\n\u001b[0;32m     32\u001b[0m stimes \u001b[38;5;241m=\u001b[39m [np\u001b[38;5;241m.\u001b[39margmin((time\u001b[38;5;241m-\u001b[39mt)\u001b[38;5;241m*\u001b[39m\u001b[38;5;241m*\u001b[39m\u001b[38;5;241m2\u001b[39m) \u001b[38;5;28;01mfor\u001b[39;00m t \u001b[38;5;129;01min\u001b[39;00m astart]\n\u001b[0;32m     33\u001b[0m etimes \u001b[38;5;241m=\u001b[39m [np\u001b[38;5;241m.\u001b[39margmin((time\u001b[38;5;241m-\u001b[39mt)\u001b[38;5;241m*\u001b[39m\u001b[38;5;241m*\u001b[39m\u001b[38;5;241m2\u001b[39m) \u001b[38;5;28;01mfor\u001b[39;00m t \u001b[38;5;129;01min\u001b[39;00m aend]\n\u001b[1;32m---> 35\u001b[0m istart \u001b[38;5;241m=\u001b[39m np\u001b[38;5;241m.\u001b[39margmin((time\u001b[38;5;241m-\u001b[39m\u001b[43mastart\u001b[49m\u001b[43m[\u001b[49m\u001b[38;5;241;43m0\u001b[39;49m\u001b[43m]\u001b[49m\u001b[38;5;241m+\u001b[39mdelta\u001b[38;5;241m/\u001b[39m\u001b[38;5;241m4\u001b[39m)\u001b[38;5;241m*\u001b[39m\u001b[38;5;241m*\u001b[39m\u001b[38;5;241m2\u001b[39m)\n\u001b[0;32m     36\u001b[0m flat \u001b[38;5;241m=\u001b[39m np\u001b[38;5;241m.\u001b[39maverage( z[istart:stimes[\u001b[38;5;241m0\u001b[39m]] )\n\u001b[0;32m     38\u001b[0m onesec \u001b[38;5;241m=\u001b[39m np\u001b[38;5;241m.\u001b[39margmin((time\u001b[38;5;241m-\u001b[39m\u001b[38;5;241m1\u001b[39m)\u001b[38;5;241m*\u001b[39m\u001b[38;5;241m*\u001b[39m\u001b[38;5;241m2\u001b[39m)\n",
      "\u001b[1;31mIndexError\u001b[0m: list index out of range"
     ]
    }
   ],
   "source": [
    "f = open(fc.value,'r')\n",
    "for line in f:\n",
    "    if 'Profile' in line:\n",
    "        break\n",
    "times=[]\n",
    "for line in f:\n",
    "    com = line.strip().split(' ')\n",
    "    if com[0]=='Time':\n",
    "        times.append(float(com[1]))\n",
    "    else:\n",
    "        break\n",
    "astart=[]\n",
    "aend=[]\n",
    "for line in f:\n",
    "    if 'DMA absolute start times' in line:\n",
    "        com = line.strip().split('\\t')[1]        \n",
    "        astart = [float(a) for a in com.split(',')]\n",
    "    elif 'DMA absolute end times' in line:\n",
    "        com = line[len('DMA absolute end times (s)'):].strip()\n",
    "        aend = [float(a) for a in com.split(',')]\n",
    "    elif 'Initial relaxation' in line:\n",
    "        delta = float(line[line.rfind(' '):].strip())\n",
    "    elif 'Model' in line:\n",
    "        break    \n",
    "f.close()\n",
    "\n",
    "fig,ax=plt.subplots(1,2,figsize=(14,6),sharex=True)\n",
    "\n",
    "ax[0].plot(time,z)\n",
    "ax[1].plot(time,load)\n",
    "\n",
    "stimes = [np.argmin((time-t)**2) for t in astart]\n",
    "etimes = [np.argmin((time-t)**2) for t in aend]\n",
    "\n",
    "istart = np.argmin((time-astart[0]+delta/4)**2)\n",
    "flat = np.average( z[istart:stimes[0]] )\n",
    "\n",
    "onesec = np.argmin((time-1)**2)\n",
    "\n",
    "segments=[]\n",
    "\n",
    "for j in range(len(stimes)):\n",
    "    flat = z[stimes[j]]\n",
    "    area1 = stimes[j]-onesec\n",
    "    area2 = etimes[j]+onesec\n",
    "    ax[0].plot([time[area1],time[area2]],[flat,flat],'--',color='C1')\n",
    "    \n",
    "    amp = np.min( [np.max(z[area1:area2])-flat,flat-np.min(z[area1:area2]) ]) \n",
    "    \n",
    "    upstart = area1\n",
    "    while(z[upstart] < flat+amp/2):\n",
    "        upstart+=1\n",
    "    while(z[upstart] > flat):\n",
    "        upstart-=1\n",
    "    \n",
    "    upend = area2\n",
    "    while(z[upend] > flat-amp/2):\n",
    "        upend-=1\n",
    "    while(z[upend] < flat):\n",
    "        upend+=1\n",
    "    \n",
    "    segments.append([upstart,upend,flat,time[upstart:upend],z[upstart:upend],load[upstart:upend]])\n",
    "    \n",
    "    ax[0].plot(time[upstart],z[upstart],'ro')\n",
    "    ax[0].plot(time[upend],z[upend],'go')\n",
    "    ax[1].plot(time[upstart],load[upstart],'ro')\n",
    "    ax[1].plot(time[upend],load[upend],'go')\n",
    "        \n"
   ]
  },
  {
   "cell_type": "code",
   "execution_count": null,
   "metadata": {},
   "outputs": [],
   "source": []
  }
 ],
 "metadata": {
  "kernelspec": {
   "display_name": "Python 3",
   "language": "python",
   "name": "python3"
  },
  "language_info": {
   "codemirror_mode": {
    "name": "ipython",
    "version": 3
   },
   "file_extension": ".py",
   "mimetype": "text/x-python",
   "name": "python",
   "nbconvert_exporter": "python",
   "pygments_lexer": "ipython3",
   "version": "3.10.4"
  },
  "orig_nbformat": 4,
  "vscode": {
   "interpreter": {
    "hash": "bf2b4bfcc82f24907b3cd84f0a9a40f07f9803360842841d51e2a38a2e18db34"
   }
  }
 },
 "nbformat": 4,
 "nbformat_minor": 2
}
