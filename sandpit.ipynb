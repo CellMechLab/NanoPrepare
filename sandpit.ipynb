{
 "cells": [
  {
   "cell_type": "code",
   "execution_count": 3,
   "metadata": {},
   "outputs": [],
   "source": [
    "import numpy as np\n",
    "import matplotlib.pyplot as plt\n",
    "import mvexperiment.experiment as experiment\n",
    "import ipywidgets as widgets\n",
    "from ipyfilechooser import FileChooser\n",
    "%matplotlib qt"
   ]
  },
  {
   "cell_type": "code",
   "execution_count": 4,
   "metadata": {},
   "outputs": [
    {
     "data": {
      "application/vnd.jupyter.widget-view+json": {
       "model_id": "6339d2b16a99473cb5713e0376045443",
       "version_major": 2,
       "version_minor": 0
      },
      "text/plain": [
       "FileChooser(path='C:\\Users\\mv68b\\git\\NanoPrepare', filename='', title='', show_hidden=False, select_desc='Sele…"
      ]
     },
     "metadata": {},
     "output_type": "display_data"
    }
   ],
   "source": [
    "fc = FileChooser('./')\n",
    "display(fc)"
   ]
  },
  {
   "cell_type": "code",
   "execution_count": 11,
   "metadata": {},
   "outputs": [],
   "source": [
    "f = open(fc.value,'r')\n",
    "for line in f:\n",
    "    if line[:8]=='Time (s)':\n",
    "        break\n",
    "com = line.split('\\t')\n",
    "n=[0,com.index('Load (uN)'),com.index('Piezo (nm)'),com.index('Indentation (nm)')]\n",
    "time=[]\n",
    "load=[]\n",
    "z=[]\n",
    "ind=[]\n",
    "for line in f:\n",
    "    cols = line.split('\\t')\n",
    "    time.append(float(cols[n[0]]))\n",
    "    load.append(float(cols[n[1]]))\n",
    "    z.append(float(cols[n[2]]))\n",
    "    ind.append(float(cols[n[3]]))\n",
    "time=np.array(time)\n",
    "z=np.array(z)\n",
    "load=np.array(load)\n",
    "f.close()"
   ]
  },
  {
   "cell_type": "code",
   "execution_count": 12,
   "metadata": {},
   "outputs": [
    {
     "data": {
      "text/plain": [
       "[<matplotlib.lines.Line2D at 0x24680498340>]"
      ]
     },
     "execution_count": 12,
     "metadata": {},
     "output_type": "execute_result"
    }
   ],
   "source": [
    "fig,ax=plt.subplots(1,2,figsize=(14,6))\n",
    "\n",
    "ax[0].plot(time,z)\n",
    "ax[1].plot(time,load)"
   ]
  },
  {
   "cell_type": "code",
   "execution_count": 13,
   "metadata": {},
   "outputs": [],
   "source": [
    "f = open(fc.value,'r')\n",
    "for line in f:\n",
    "    if 'Profile' in line:\n",
    "        break\n",
    "times=[]\n",
    "for line in f:\n",
    "    com = line.strip().split(' ')\n",
    "    if com[0]=='Time':\n",
    "        times.append(float(com[1]))\n",
    "    else:\n",
    "        break\n",
    "astart=[]\n",
    "aend=[]\n",
    "for line in f:\n",
    "    if 'DMA absolute start times' in line:\n",
    "        com = line.strip().split('\\t')[1]        \n",
    "        astart = [float(a) for a in com.split(',')]\n",
    "    elif 'DMA absolute end times' in line:\n",
    "        com = line[len('DMA absolute end times (s)'):].strip()\n",
    "        aend = [float(a) for a in com.split(',')]\n",
    "    elif 'Initial relaxation' in line:\n",
    "        delta = float(line[line.rfind(' '):].strip())\n",
    "    elif 'Model' in line:\n",
    "        break    \n",
    "f.close()\n",
    "\n",
    "fig,ax=plt.subplots(1,2,figsize=(14,6),sharex=True)\n",
    "\n",
    "ax[0].plot(time,z)\n",
    "ax[1].plot(time,load)\n",
    "\n",
    "stimes = [np.argmin((time-t)**2) for t in astart]\n",
    "etimes = [np.argmin((time-t)**2) for t in aend]\n",
    "\n",
    "istart = np.argmin((time-astart[0]+delta/4)**2)\n",
    "flat = np.average( z[istart:stimes[0]] )\n",
    "\n",
    "onesec = np.argmin((time-1)**2)\n",
    "\n",
    "segments=[]\n",
    "\n",
    "for j in range(len(stimes)):\n",
    "    flat = z[stimes[j]]\n",
    "    area1 = stimes[j]-onesec\n",
    "    area2 = etimes[j]+onesec\n",
    "    ax[0].plot([time[area1],time[area2]],[flat,flat],'--',color='C1')\n",
    "    \n",
    "    amp = np.min( [np.max(z[area1:area2])-flat,flat-np.min(z[area1:area2]) ]) \n",
    "    \n",
    "    upstart = area1\n",
    "    while(z[upstart] < flat+amp/2):\n",
    "        upstart+=1\n",
    "    while(z[upstart] > flat):\n",
    "        upstart-=1\n",
    "    \n",
    "    upend = area2\n",
    "    while(z[upend] > flat-amp/2):\n",
    "        upend-=1\n",
    "    while(z[upend] < flat):\n",
    "        upend+=1\n",
    "    \n",
    "    segments.append([upstart,upend,flat,time[upstart:upend],z[upstart:upend],load[upstart:upend]])\n",
    "    \n",
    "    ax[0].plot(time[upstart],z[upstart],'ro')\n",
    "    ax[0].plot(time[upend],z[upend],'go')\n",
    "    ax[1].plot(time[upstart],load[upstart],'ro')\n",
    "    ax[1].plot(time[upend],load[upend],'go')\n",
    "        \n"
   ]
  },
  {
   "cell_type": "code",
   "execution_count": null,
   "metadata": {},
   "outputs": [],
   "source": []
  }
 ],
 "metadata": {
  "kernelspec": {
   "display_name": "Python 3",
   "language": "python",
   "name": "python3"
  },
  "language_info": {
   "codemirror_mode": {
    "name": "ipython",
    "version": 3
   },
   "file_extension": ".py",
   "mimetype": "text/x-python",
   "name": "python",
   "nbconvert_exporter": "python",
   "pygments_lexer": "ipython3",
   "version": "3.10.4"
  },
  "orig_nbformat": 4
 },
 "nbformat": 4,
 "nbformat_minor": 2
}
